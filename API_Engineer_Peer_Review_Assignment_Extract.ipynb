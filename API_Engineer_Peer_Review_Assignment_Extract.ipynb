{
 "cells": [
  {
   "cell_type": "markdown",
   "metadata": {},
   "source": [
    "<center>\n",
    "    <img src=\"https://gitlab.com/ibm/skills-network/courses/placeholder101/-/raw/master/labs/module%201/images/IDSNlogo.png\" width=\"300\" alt=\"cognitiveclass.ai logo\"  />\n",
    "</center>\n"
   ]
  },
  {
   "cell_type": "markdown",
   "metadata": {},
   "source": [
    "# Peer Review Assignment - Data Engineer - Extract API Data\n"
   ]
  },
  {
   "cell_type": "markdown",
   "metadata": {},
   "source": [
    "Estimated time needed: **20** minutes\n"
   ]
  },
  {
   "cell_type": "markdown",
   "metadata": {},
   "source": [
    "## Objectives\n",
    "\n",
    "In this part you will:\n",
    "\n",
    "*   Collect exchange rate data using an API\n",
    "*   Store the data as a CSV\n"
   ]
  },
  {
   "cell_type": "markdown",
   "metadata": {},
   "source": [
    "For this lab, we are going to be using Python and several Python libraries. Some of these libraries might be installed in your lab environment or in SN Labs. Others may need to be installed by you. The cells below will install these libraries when executed.\n"
   ]
  },
  {
   "cell_type": "code",
   "execution_count": null,
   "metadata": {},
   "outputs": [],
   "source": [
    "#!pip install pandas\n",
    "#!pip install requests"
   ]
  },
  {
   "cell_type": "markdown",
   "metadata": {},
   "source": [
    "## Imports\n",
    "\n",
    "Import any additional libraries you may need here.\n"
   ]
  },
  {
   "cell_type": "code",
   "execution_count": 2,
   "metadata": {},
   "outputs": [],
   "source": [
    "import requests\n",
    "import pandas as pd"
   ]
  },
  {
   "cell_type": "code",
   "execution_count": null,
   "metadata": {},
   "outputs": [],
   "source": []
  },
  {
   "cell_type": "markdown",
   "metadata": {},
   "source": [
    "## Extract Data Using an API\n"
   ]
  },
  {
   "cell_type": "markdown",
   "metadata": {},
   "source": [
    "Using ExchangeRate-API we will extract currency exchange rate data. Use the below steps to get the access key and to get the data.\n",
    "\n",
    "1.  Open the url : [https://exchangeratesapi.io/](https://exchangeratesapi.io/?utm_medium=Exinfluencer&utm_source=Exinfluencer&utm_content=000026UJ&utm_term=10006555&utm_id=NA-SkillsNetwork-Channel-SkillsNetworkCoursesIBMDeveloperSkillsNetworkPY0221ENSkillsNetwork23455645-2021-01-01) and create a free account.\n",
    "2.  Once the account is created. You will get the Get the Free API key option on the top as shown below:\n",
    "\n",
    "<img src=\"https://cf-courses-data.s3.us.cloud-object-storage.appdomain.cloud/IBMDeveloperSkillsNetwork-PY0221EN-SkillsNetwork/labs/module%206/Final%20Assignment/Images/getapi.png\"/>\n",
    "\n",
    "3.  Copy the API key and use in the url in Question 1.\n"
   ]
  },
  {
   "cell_type": "markdown",
   "metadata": {},
   "source": [
    "### Call the API\n",
    "\n",
    "<b> Question 1</b> Using the `requests` library call the endpoint given above and save the text, remember the first few characters of the output:\n"
   ]
  },
  {
   "cell_type": "code",
   "execution_count": 10,
   "metadata": {},
   "outputs": [
    {
     "name": "stdout",
     "output_type": "stream",
     "text": [
      "{\"success\":true,\"timestamp\":1637341623,\"base\":\"EUR\",\"date\":\"2021-11-19\",\"rates\":{\"AED\":4.156343,\"AFN\":105.692605,\"ALL\":121.644361,\"AMD\":539.632917,\"ANG\":2.038234,\"AOA\":672.415119,\"ARS\":113.683004,\"AUD\":1.559736,\"AWG\":2.037185,\"AZN\":1.923376,\"BAM\":1.959435,\"BBD\":2.283459,\"BDT\":96.941558,\"BGN\":1.958411,\"BHD\":0.42661,\"BIF\":2251.644223,\"BMD\":1.131612,\"BND\":1.539505,\"BOB\":7.809141,\"BRL\":6.306818,\"BSD\":1.130961,\"BTC\":1.9407441e-5,\"BTN\":83.977233,\"BWP\":13.19027,\"BYN\":2.791035,\"BYR\":22179.598165,\"BZD\":2.279653,\"CAD\":1.429764,\"CDF\":2270.014048,\"CHF\":1.048393,\"CLF\":0.033984,\"CLP\":937.688383,\"CNY\":7.227837,\"COP\":4447.74498,\"CRC\":723.885176,\"CUC\":1.131612,\"CUP\":29.987722,\"CVE\":110.456525,\"CZK\":25.425033,\"DJF\":201.110321,\"DKK\":7.436165,\"DOP\":63.931854,\"DZD\":157.316227,\"EGP\":17.76846,\"ERN\":16.974534,\"ETB\":53.911479,\"EUR\":1,\"FJD\":2.376895,\"FKP\":0.843542,\"GBP\":0.840148,\"GEL\":3.536318,\"GGP\":0.843542,\"GHS\":6.929816,\"GIP\":0.843542,\"GMD\":59.311024,\"GNF\":10803.833234,\"GTQ\":8.747868,\"GYD\":236.630304,\"HKD\":8.817239,\"HNL\":27.271287,\"HRK\":7.513223,\"HTG\":110.898291,\"HUF\":367.830129,\"IDR\":16126.774509,\"ILS\":3.503833,\"IMP\":0.843542,\"INR\":84.066673,\"IQD\":1650.187157,\"IRR\":47810.61361,\"ISK\":147.81147,\"JEP\":0.843542,\"JMD\":176.004847,\"JOD\":0.802295,\"JPY\":128.795588,\"KES\":126.77468,\"KGS\":95.938534,\"KHR\":4601.084615,\"KMF\":489.988319,\"KPW\":1018.451332,\"KRW\":1347.540708,\"KWD\":0.342415,\"KYD\":0.942534,\"KZT\":490.262076,\"LAK\":12119.084763,\"LBP\":1710.316732,\"LKR\":228.470344,\"LRD\":161.82023,\"LSL\":17.698736,\"LTL\":3.341357,\"LVL\":0.684501,\"LYD\":5.195208,\"MAD\":10.418766,\"MDL\":20.019736,\"MGA\":4512.45434,\"MKD\":61.72858,\"MMK\":2003.922273,\"MNT\":3234.394912,\"MOP\":9.077642,\"MRO\":403.985343,\"MUR\":48.999711,\"MVR\":17.483665,\"MWK\":922.322254,\"MXN\":23.54195,\"MYR\":4.734098,\"MZN\":72.231222,\"NAD\":17.698096,\"NGN\":464.911933,\"NIO\":39.843086,\"NOK\":10.038514,\"NPR\":134.363853,\"NZD\":1.613198,\"OMR\":0.435625,\"PAB\":1.130961,\"PEN\":4.552093,\"PGK\":3.972138,\"PHP\":57.115291,\"PKR\":198.103657,\"PLN\":4.690205,\"PYG\":7741.523362,\"QAR\":4.12019,\"RON\":4.949703,\"RSD\":117.573354,\"RUB\":83.090322,\"RWF\":1170.579719,\"SAR\":4.244777,\"SBD\":9.107615,\"SCR\":14.571482,\"SDG\":495.64631,\"SEK\":10.089047,\"SGD\":1.538204,\"SHP\":1.558681,\"SLL\":12476.024013,\"SOS\":660.861428,\"SRD\":24.326265,\"STD\":23422.086815,\"SVC\":9.896159,\"SYP\":1422.191546,\"SZL\":17.811184,\"THB\":37.116312,\"TJS\":12.775306,\"TMT\":3.960643,\"TND\":3.239522,\"TOP\":2.558238,\"TRY\":12.691145,\"TTD\":7.67641,\"TWD\":31.454513,\"TZS\":2604.971015,\"UAH\":30.073267,\"UGX\":4043.110524,\"USD\":1.131612,\"UYU\":49.902528,\"UZS\":12149.10419,\"VEF\":241972877902.52618,\"VND\":25644.594572,\"VUV\":125.970622,\"WST\":2.901047,\"XAF\":657.154541,\"XAG\":0.045492,\"XAU\":0.000609,\"XCD\":3.058238,\"XDR\":0.807371,\"XOF\":657.096368,\"XPF\":119.243631,\"YER\":283.186195,\"ZAR\":17.786419,\"ZMK\":10185.792263,\"ZMW\":19.932862,\"ZWL\":364.378651}}\n"
     ]
    }
   ],
   "source": [
    "# Write your code here\n",
    "url = \"http://api.exchangeratesapi.io/v1/latest?base=EUR&access_key=d29ab1bf10884d343e8547ddb4bb9f57\"  #Make sure to change ******* to your API key.\n",
    "response = requests.get(url).text\n",
    "print(response)"
   ]
  },
  {
   "cell_type": "markdown",
   "metadata": {},
   "source": [
    "### Save as DataFrame\n",
    "\n",
    "<b> Question 2</b>  Using the data gathered turn it into a `pandas` dataframe. The dataframe should have the Currency as the index and `Rate` as their columns. Make sure to drop unnecessary columns.\n"
   ]
  },
  {
   "cell_type": "code",
   "execution_count": 19,
   "metadata": {},
   "outputs": [
    {
     "name": "stdout",
     "output_type": "stream",
     "text": [
      "     success           timestamp base       date         rates\n",
      "AED     True 2021-11-19 17:07:03  EUR 2021-11-19      4.156343\n",
      "AFN     True 2021-11-19 17:07:03  EUR 2021-11-19    105.692605\n",
      "ALL     True 2021-11-19 17:07:03  EUR 2021-11-19    121.644361\n",
      "AMD     True 2021-11-19 17:07:03  EUR 2021-11-19    539.632917\n",
      "ANG     True 2021-11-19 17:07:03  EUR 2021-11-19      2.038234\n",
      "..       ...                 ...  ...        ...           ...\n",
      "YER     True 2021-11-19 17:07:03  EUR 2021-11-19    283.186195\n",
      "ZAR     True 2021-11-19 17:07:03  EUR 2021-11-19     17.786419\n",
      "ZMK     True 2021-11-19 17:07:03  EUR 2021-11-19  10185.792263\n",
      "ZMW     True 2021-11-19 17:07:03  EUR 2021-11-19     19.932862\n",
      "ZWL     True 2021-11-19 17:07:03  EUR 2021-11-19    364.378651\n",
      "\n",
      "[168 rows x 5 columns]\n"
     ]
    }
   ],
   "source": [
    "# Turn the data into a dataframe\n",
    "data = pd.DataFrame(columns = [\"Rate\"])\n",
    "json_data = pd.read_json(response)\n",
    "\n"
   ]
  },
  {
   "cell_type": "code",
   "execution_count": null,
   "metadata": {},
   "outputs": [],
   "source": [
    "# Drop unnescessary columns\n"
   ]
  },
  {
   "cell_type": "markdown",
   "metadata": {},
   "source": [
    "### Load the Data\n",
    "\n",
    "Using the dataframe save it as a CSV names `exchange_rates_1.csv`.\n"
   ]
  },
  {
   "cell_type": "code",
   "execution_count": null,
   "metadata": {},
   "outputs": [],
   "source": [
    "# Save the Dataframe\n"
   ]
  },
  {
   "cell_type": "markdown",
   "metadata": {},
   "source": [
    "Your CSV should be in this format with more currencies\n",
    "\n",
    "|     | Rates      |\n",
    "| --- | ---------- |\n",
    "| AED | 4.398618   |\n",
    "| AFN | 92.917693  |\n",
    "| ALL | 123.099093 |\n",
    "| AMD | 621.935674 |\n",
    "| ANG | 2.149648   |\n"
   ]
  },
  {
   "cell_type": "markdown",
   "metadata": {},
   "source": [
    "## Authors\n"
   ]
  },
  {
   "cell_type": "markdown",
   "metadata": {},
   "source": [
    "Ramesh Sannareddy, Joseph Santarcangelo and Azim Hirjani\n"
   ]
  },
  {
   "cell_type": "markdown",
   "metadata": {},
   "source": [
    "### Other Contributors\n"
   ]
  },
  {
   "cell_type": "markdown",
   "metadata": {},
   "source": [
    "Rav Ahuja\n"
   ]
  },
  {
   "cell_type": "markdown",
   "metadata": {},
   "source": [
    "## Change Log\n"
   ]
  },
  {
   "cell_type": "markdown",
   "metadata": {},
   "source": [
    "| Date (YYYY-MM-DD) | Version | Changed By        | Change Description                 |\n",
    "| ----------------- | ------- | ----------------- | ---------------------------------- |\n",
    "| 2021-04-15        | 0.2     | Malika            | Updated the lab from USD to EUR    |\n",
    "| 2020-11-25        | 0.1     | Ramesh Sannareddy | Created initial version of the lab |\n"
   ]
  },
  {
   "cell_type": "markdown",
   "metadata": {},
   "source": [
    "Copyright © 2020 IBM Corporation. This notebook and its source code are released under the terms of the [MIT License](https://cognitiveclass.ai/mit-license?utm_medium=Exinfluencer&utm_source=Exinfluencer&utm_content=000026UJ&utm_term=10006555&utm_id=NA-SkillsNetwork-Channel-SkillsNetworkCoursesIBMDeveloperSkillsNetworkPY0221ENSkillsNetwork23455645-2021-01-01&cm_mmc=Email_Newsletter-\\_-Developer_Ed%2BTech-\\_-WW_WW-\\_-SkillsNetwork-Courses-IBM-DA0321EN-SkillsNetwork-21426264&cm_mmca1=000026UJ&cm_mmca2=10006555&cm_mmca3=M12345678&cvosrc=email.Newsletter.M12345678&cvo_campaign=000026UJ).\n"
   ]
  }
 ],
 "metadata": {
  "kernelspec": {
   "display_name": "Python 3 (ipykernel)",
   "language": "python",
   "name": "python3"
  },
  "language_info": {
   "codemirror_mode": {
    "name": "ipython",
    "version": 3
   },
   "file_extension": ".py",
   "mimetype": "text/x-python",
   "name": "python",
   "nbconvert_exporter": "python",
   "pygments_lexer": "ipython3",
   "version": "3.9.7"
  }
 },
 "nbformat": 4,
 "nbformat_minor": 4
}
